{
  "nbformat": 4,
  "nbformat_minor": 0,
  "metadata": {
    "colab": {
      "provenance": []
    },
    "kernelspec": {
      "name": "python3",
      "display_name": "Python 3"
    },
    "language_info": {
      "name": "python"
    }
  },
  "cells": [
    {
      "cell_type": "markdown",
      "source": [
        "Level-2 Task-5 File Manipulation\n",
        "\n",
        "Write a Python program that reads a text file and counts the occurrences of each\n",
        "word in the file. Display the results in alphabetical order along with their\n",
        "respective counts."
      ],
      "metadata": {
        "id": "l6Sw6gZeX9E1"
      }
    },
    {
      "cell_type": "code",
      "execution_count": 1,
      "metadata": {
        "id": "4eyEyL88QbR3"
      },
      "outputs": [],
      "source": [
        "import string"
      ]
    },
    {
      "cell_type": "code",
      "source": [
        "def count_word_occurrences(file_name):\n",
        "    word_counts = {}\n",
        "\n",
        "    with open(file_name, 'r') as file:\n",
        "        for line in file:\n",
        "            line = line.translate(str.maketrans('', '', string.punctuation)).lower()\n",
        "            words = line.split()\n",
        "\n",
        "            for word in words:\n",
        "                if word in word_counts:\n",
        "                    word_counts[word] += 1\n",
        "                else:\n",
        "                    word_counts[word] = 1\n",
        "\n",
        "    return word_counts"
      ],
      "metadata": {
        "id": "ZbSaJ-ODQmDN"
      },
      "execution_count": 2,
      "outputs": []
    },
    {
      "cell_type": "code",
      "source": [
        "def display_word_counts(word_counts):\n",
        "    sorted_words = sorted(word_counts.keys())\n",
        "\n",
        "    for word in sorted_words:\n",
        "        print(f\"{word}: {word_counts[word]}\")"
      ],
      "metadata": {
        "id": "TfQ-sxBNQ63Q"
      },
      "execution_count": 3,
      "outputs": []
    },
    {
      "cell_type": "code",
      "source": [
        "file_name = 'file.txt'\n",
        "word_counts = count_word_occurrences(file_name)\n",
        "display_word_counts(word_counts)"
      ],
      "metadata": {
        "colab": {
          "base_uri": "https://localhost:8080/"
        },
        "id": "1jlltDw0SV8d",
        "outputId": "59fa234b-3df3-4922-c0c1-8db821b594d1"
      },
      "execution_count": 5,
      "outputs": [
        {
          "output_type": "stream",
          "name": "stdout",
          "text": [
            "and: 1\n",
            "btech: 1\n",
            "computing: 1\n",
            "department: 1\n",
            "engineering: 1\n",
            "from: 1\n",
            "hello: 1\n",
            "is: 1\n",
            "khushi: 1\n",
            "mathematics: 1\n",
            "of: 1\n",
            "pursuing: 1\n",
            "soni: 1\n",
            "this: 1\n"
          ]
        }
      ]
    }
  ]
}